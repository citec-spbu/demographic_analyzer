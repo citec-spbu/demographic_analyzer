{
  "nbformat": 4,
  "nbformat_minor": 0,
  "metadata": {
    "colab": {
      "provenance": []
    },
    "kernelspec": {
      "name": "python3",
      "display_name": "Python 3"
    },
    "language_info": {
      "name": "python"
    }
  },
  "cells": [
    {
      "cell_type": "markdown",
      "source": [
        "/content/drive/MyDrive/test.csv\n",
        "/content/drive/MyDrive/rosstat.csv"
      ],
      "metadata": {
        "id": "e78WkirVL_Ej"
      }
    },
    {
      "cell_type": "code",
      "execution_count": null,
      "metadata": {
        "colab": {
          "base_uri": "https://localhost:8080/"
        },
        "id": "0lGyLhHVKx6v",
        "outputId": "dcfaf5cd-d467-4b0e-ed31-85e0d0338763"
      },
      "outputs": [
        {
          "name": "stdout",
          "output_type": "stream",
          "text": [
            "Drive already mounted at /content/drive; to attempt to forcibly remount, call drive.mount(\"/content/drive\", force_remount=True).\n",
            "/content/drive/MyDrive/rosstat.csv\n"
          ]
        }
      ],
      "source": [
        "import pandas as pd\n",
        "from google.colab import drive\n",
        "drive.mount('/content/drive')\n",
        "path=input()\n",
        "df_bonus = pd.read_csv(path)"
      ]
    },
    {
      "cell_type": "code",
      "source": [
        "import pandas as pd\n",
        "import numpy as np\n",
        "from statsmodels.tsa.arima.model import ARIMA\n",
        "\n",
        "def full_tab(df):\n",
        "  df = df.replace ( r'^\\s\\*$' , np.nan , regex= True )\n",
        "  df=df.dropna()\n",
        "  df=df.reset_index(drop=True)\n",
        "  return df\n",
        "\n",
        "def sum_data(t,data):\n",
        "  summ=0\n",
        "  for i in range(t):\n",
        "      summ+=int(data[i])\n",
        "  return summ\n",
        "\n",
        "def T_finder(t,data_t,data):\n",
        "  for tau in range(len(data)):\n",
        "    if data_t[tau]>=data[t] or tau>=t:\n",
        "      return tau\n",
        "\n",
        "def pers_next(df_bonus):\n",
        "  # fit model\n",
        "  modelB = ARIMA(df_bonus['rBt'], order=(5,1,0))\n",
        "  modelB_fit = modelB.fit()\n",
        "  outputB = modelB_fit.forecast()\n",
        "  #summary of fit model\n",
        "  # print(modelB_fit.summary())\n",
        "\n",
        "\n",
        "  # fit model\n",
        "  modelDNM = ARIMA(df_bonus['rDNMt'], order=(5,1,0))\n",
        "  modelDNM_fit = modelDNM.fit()\n",
        "  outputDNM = modelDNM_fit.forecast()\n",
        "  #summary of fit model\n",
        "  # print(modelDNM_fit.summary())\n",
        "  # print(outputB, outputDNM)\n",
        "  return [outputB, outputDNM]\n",
        "\n",
        "def get_next(n0,prevB, persB, prevDNM, persDNM):\n",
        "  nextBt=(1+persB/100)*prevB\n",
        "  nextDNMt=(1+persDNM/100)*prevDNM\n",
        "  nt=n0+nextBt-nextDNMt\n",
        "  return [nextBt, nextDNMt, nt]\n",
        "\n",
        "\n",
        "def get_pred(df_bonus,years):\n",
        "  df_bonus = full_tab(df_bonus)\n",
        "  df_bonus = df_bonus.assign(DNM= lambda x: (x['D(t)']) + x['NM(t)'])\n",
        "\n",
        "  print(df_bonus)\n",
        "\n",
        "  Intb_sum=[sum_data(i+1, df_bonus['B(t)']) for i in range(len(df_bonus['B(t)']))]\n",
        "  df_bonus = df_bonus.assign(IntB= Intb_sum)\n",
        "\n",
        "  IntDNM_sum=[sum_data(i+1, df_bonus['DNM']) for i in range(len(df_bonus['DNM']))]\n",
        "  df_bonus = df_bonus.assign(IntDNM= IntDNM_sum)\n",
        "\n",
        "  rBt_t=[0]+[100*(df_bonus['IntB'][i] - df_bonus['IntB'][i-1])/df_bonus['IntB'][i] for i in range(1,len(df_bonus['IntB']))]\n",
        "  df_bonus = df_bonus.assign(rBt= rBt_t)\n",
        "\n",
        "  rDNMt_t=[0]+[100*(df_bonus['IntDNM'][i] - df_bonus['IntDNM'][i-1])/df_bonus['IntDNM'][i] for i in range(1,len(df_bonus['IntDNM']))]\n",
        "  df_bonus = df_bonus.assign(rDNMt= rDNMt_t)\n",
        "\n",
        "  tau=[0]+[i-T_finder(i,df_bonus['IntB'],df_bonus['IntDNM']) for i in range(1,len(df_bonus['IntDNM']))]\n",
        "  df_bonus = df_bonus.assign(Qt= tau)\n",
        "\n",
        "  for i in range(years):\n",
        "    pers=pers_next(df_bonus)\n",
        "    new_row_list=get_next(df_bonus['N(t)'][0], df_bonus['IntB'][len(df_bonus['IntB'])-1], pers[0], df_bonus['IntDNM'][len(df_bonus['IntDNM'])-1],pers[1])\n",
        "    new_row_dict={'Year':df_bonus['Year'][len(df_bonus['Year'])-1]+1, 'N(t)':int(new_row_list[2]), 'IntB':int(new_row_list[0]), 'IntDNM':int(new_row_list[1]), 'rBt':float(pers[0]), 'rDNMt':float(pers[1])}\n",
        "    df_bonus=df_bonus.append(new_row_dict, ignore_index=True)\n",
        "\n",
        "  tau=[0]+[i-T_finder(i,df_bonus['IntB'],df_bonus['IntDNM']) for i in range(1,len(df_bonus['IntDNM']))]\n",
        "  df_bonus = df_bonus.assign(Qt= tau)\n",
        "\n",
        "  return df_bonus"
      ],
      "metadata": {
        "id": "23PNsNMWK_sr"
      },
      "execution_count": null,
      "outputs": []
    },
    {
      "cell_type": "code",
      "source": [
        "df_bonus=get_pred(df_bonus,10)\n",
        "df_bonus.to_excel(\"output.xlsx\")"
      ],
      "metadata": {
        "colab": {
          "base_uri": "https://localhost:8080/"
        },
        "id": "fBxnROIsL9FI",
        "outputId": "58c34b5d-2de1-4c84-ebeb-d2932cd333fa"
      },
      "execution_count": null,
      "outputs": [
        {
          "output_type": "stream",
          "name": "stdout",
          "text": [
            "      Year         N(t)      B(t)      D(t)     NM(t)       DNM       IntB  \\\n",
            "0   2002.0  145200000.0  398911.0  693450.0   87149.0  606301.0   398911.0   \n",
            "1   2003.0  145000000.0  426736.0  708257.0   43884.0  664373.0   825647.0   \n",
            "2   2004.0  144300000.0  428230.0  688508.0   41275.0  647233.0  1253877.0   \n",
            "3   2005.0  143800000.0  420506.0  708173.0  107432.0  600741.0  1674383.0   \n",
            "4   2006.0  143200000.0  435097.0  665458.0  132319.0  533139.0  2109480.0   \n",
            "5   2007.0  142800000.0  489381.0  635034.0  239943.0  395091.0  2598861.0   \n",
            "6   2008.0  142800000.0  519127.0  632425.0  242106.0  390319.0  3117988.0   \n",
            "7   2009.0  142700000.0  524072.0  612952.0  247449.0  365503.0  3642060.0   \n",
            "8   2010.0  142900000.0  525055.0  606782.0  158078.0  448704.0  4167115.0   \n",
            "9   2011.0  142900000.0  526582.0  569024.0  319761.0  249263.0  4693697.0   \n",
            "10  2012.0  143000000.0  546410.0  552700.0  294930.0  257770.0  5240107.0   \n",
            "11  2013.0  143300000.0  538512.0  539304.0  295859.0  243445.0  5778619.0   \n",
            "12  2014.0  143700000.0  547823.0  549537.0  299990.0  249547.0  6326442.0   \n",
            "13  2015.0  146300000.0  485296.0  546650.0  245384.0  301266.0  6811738.0   \n",
            "14  2016.0  146500000.0  462138.0  536071.0  261948.0  274123.0  7273876.0   \n",
            "15  2017.0  146800000.0  420780.0  515890.0  211878.0  304012.0  7694656.0   \n",
            "16  2018.0  146900000.0  399113.0  511207.0  124854.0  386353.0  8093769.0   \n",
            "17  2019.0  146800000.0  365737.0  496657.0  285103.0  211554.0  8459506.0   \n",
            "18  2020.0  146700000.0  356627.0  569813.0  106474.0  463339.0  8816133.0   \n",
            "19  2021.0  146200000.0  350522.0  642217.0  429902.0  212315.0  9166655.0   \n",
            "20  2022.0  147000000.0  323371.0  510152.0   61917.0  448235.0  9490026.0   \n",
            "\n",
            "        IntDNM        rBt      rDNMt  Qt  \n",
            "0     780599.0   0.000000   0.000000   0  \n",
            "1    1532740.0  51.685042  49.071663   0  \n",
            "2    2262523.0  34.152473  32.255274   0  \n",
            "3    3078128.0  25.114087  26.496786   0  \n",
            "4    3875905.0  20.625794  20.582986   0  \n",
            "5    4750882.0  18.830595  18.417149   0  \n",
            "6    5625413.0  16.649423  15.546076   0  \n",
            "7    6485814.0  14.389439  13.265891   0  \n",
            "8    7250674.0  12.599964  10.548812   0  \n",
            "9    8139459.0  11.218918  10.919460   0  \n",
            "10   8987089.0  10.427459   9.431641   0  \n",
            "11   9822252.0   9.319043   8.502765   0  \n",
            "12  10671779.0   8.659259   7.960500   0  \n",
            "13  11463813.0   7.124408   6.908993   0  \n",
            "14  12261832.0   6.353394   6.508155   0  \n",
            "15  12989600.0   5.468471   5.602698   0  \n",
            "16  13625661.0   4.931114   4.668111   0  \n",
            "17  14407421.0   4.323385   5.426093   0  \n",
            "18  15083708.0   4.045164   4.483559   0  \n",
            "19  16155827.0   3.823881   6.636113   0  \n",
            "20  16727896.0   3.407483   3.419850   0  \n"
          ]
        },
        {
          "output_type": "stream",
          "name": "stderr",
          "text": [
            "<ipython-input-77-02f7ae8899ef>:72: FutureWarning: The frame.append method is deprecated and will be removed from pandas in a future version. Use pandas.concat instead.\n",
            "  df_bonus=df_bonus.append(new_row_dict, ignore_index=True)\n",
            "<ipython-input-77-02f7ae8899ef>:72: FutureWarning: The frame.append method is deprecated and will be removed from pandas in a future version. Use pandas.concat instead.\n",
            "  df_bonus=df_bonus.append(new_row_dict, ignore_index=True)\n",
            "<ipython-input-77-02f7ae8899ef>:72: FutureWarning: The frame.append method is deprecated and will be removed from pandas in a future version. Use pandas.concat instead.\n",
            "  df_bonus=df_bonus.append(new_row_dict, ignore_index=True)\n",
            "<ipython-input-77-02f7ae8899ef>:72: FutureWarning: The frame.append method is deprecated and will be removed from pandas in a future version. Use pandas.concat instead.\n",
            "  df_bonus=df_bonus.append(new_row_dict, ignore_index=True)\n",
            "<ipython-input-77-02f7ae8899ef>:72: FutureWarning: The frame.append method is deprecated and will be removed from pandas in a future version. Use pandas.concat instead.\n",
            "  df_bonus=df_bonus.append(new_row_dict, ignore_index=True)\n",
            "<ipython-input-77-02f7ae8899ef>:72: FutureWarning: The frame.append method is deprecated and will be removed from pandas in a future version. Use pandas.concat instead.\n",
            "  df_bonus=df_bonus.append(new_row_dict, ignore_index=True)\n",
            "<ipython-input-77-02f7ae8899ef>:72: FutureWarning: The frame.append method is deprecated and will be removed from pandas in a future version. Use pandas.concat instead.\n",
            "  df_bonus=df_bonus.append(new_row_dict, ignore_index=True)\n",
            "<ipython-input-77-02f7ae8899ef>:72: FutureWarning: The frame.append method is deprecated and will be removed from pandas in a future version. Use pandas.concat instead.\n",
            "  df_bonus=df_bonus.append(new_row_dict, ignore_index=True)\n",
            "<ipython-input-77-02f7ae8899ef>:72: FutureWarning: The frame.append method is deprecated and will be removed from pandas in a future version. Use pandas.concat instead.\n",
            "  df_bonus=df_bonus.append(new_row_dict, ignore_index=True)\n",
            "<ipython-input-77-02f7ae8899ef>:72: FutureWarning: The frame.append method is deprecated and will be removed from pandas in a future version. Use pandas.concat instead.\n",
            "  df_bonus=df_bonus.append(new_row_dict, ignore_index=True)\n"
          ]
        }
      ]
    }
  ]
}